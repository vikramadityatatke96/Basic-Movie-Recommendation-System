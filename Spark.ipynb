{
 "cells": [
  {
   "cell_type": "code",
   "execution_count": 1,
   "metadata": {},
   "outputs": [],
   "source": [
    "import numpy as np\n",
    "import pandas as pd\n",
    "import pyspark\n",
    "from pyspark.sql import SQLContext, Row\n",
    "sqlContext = SQLContext(sc)"
   ]
  },
  {
   "cell_type": "code",
   "execution_count": 2,
   "metadata": {},
   "outputs": [
    {
     "name": "stdout",
     "output_type": "stream",
     "text": [
      "2.4.1\n"
     ]
    }
   ],
   "source": [
    "print(sc.version)"
   ]
  },
  {
   "cell_type": "code",
   "execution_count": 41,
   "metadata": {},
   "outputs": [],
   "source": [
    "df_ratings = sc.textFile('/media/hduser/I don\\'t spin/PFDA Repeat Project/Map Reduce Files/ratings')\n",
    "parts = df_ratings.map(lambda l : l.split(','))\n",
    "ratings = parts.map(lambda p: Row(userID = p[0], movieID =p[1], rating = p[2]))\n",
    "schema_ratings = sqlContext.createDataFrame(ratings, ['movieID', 'rating', 'userID'])\n",
    "schema_ratings.registerTempTable('ratings')\n",
    "schema_ratings = schema_ratings.withColumn(\"movieID\", schema_ratings.movieID.cast(\"int\"))\n",
    "schema_ratings = schema_ratings.withColumn(\"rating\", schema_ratings.rating.cast(\"float\"))"
   ]
  },
  {
   "cell_type": "code",
   "execution_count": 40,
   "metadata": {},
   "outputs": [],
   "source": [
    "df_movies = sc.textFile('/media/hduser/I don\\'t spin/PFDA Repeat Project/Map Reduce Files/movies_year')\n",
    "parts = df_movies.map(lambda l:l.split(','))\n",
    "movies = parts.map(lambda p: Row(movieID = p[0], title = p[1], genre = p[2], year = p[3]))\n",
    "schema_movies = sqlContext.createDataFrame(movies)\n",
    "schema_movies.registerTempTable('movies')\n",
    "schema_movies = schema_movies.withColumn(\"movieID\", schema_movies.movieID.cast(\"int\"))\n",
    "schema_movies = schema_movies.withColumn(\"year\", schema_movies.year.cast(\"int\"))"
   ]
  },
  {
   "cell_type": "code",
   "execution_count": 5,
   "metadata": {},
   "outputs": [],
   "source": [
    "df_new_genome_scores1 = sc.textFile('/media/hduser/I don\\'t spin/PFDA Repeat Project/Map Reduce Files/new_genome_scores1')\n",
    "parts = df_new_genome_scores1.map(lambda l:l.split(','))\n",
    "genome_scores = parts.map(lambda p: Row(movieID = p[0], tagID = p[1], relevance = p[2]))\n",
    "schema_gs = sqlContext.createDataFrame(genome_scores)\n",
    "schema_movies.registerTempTable('genome_scores')"
   ]
  },
  {
   "cell_type": "code",
   "execution_count": 6,
   "metadata": {},
   "outputs": [],
   "source": [
    "df_genome_tags = sc.textFile('/media/hduser/I don\\'t spin/PFDA Repeat Project/Map Reduce Files/genome_tags')\n",
    "parts = df_genome_tags.map(lambda l:l.split(','))\n",
    "genome_tags = parts.map(lambda p: Row(tagID = p[0], tag = p[1]))\n",
    "schema_gt = sqlContext.createDataFrame(genome_tags)\n",
    "schema_gt.registerTempTable('genome_tags')"
   ]
  },
  {
   "cell_type": "code",
   "execution_count": 7,
   "metadata": {},
   "outputs": [],
   "source": [
    "df_tags = sc.textFile('/media/hduser/I don\\'t spin/PFDA Repeat Project/Map Reduce Files/tags')\n",
    "parts = df_tags.map(lambda l:l.split(','))\n",
    "tags = parts.map(lambda p: Row(userID = p[0], movieID = p[1], tag = p[2]))\n",
    "schema_tags = sqlContext.createDataFrame(tags)\n",
    "schema_tags.registerTempTable('tags')"
   ]
  },
  {
   "cell_type": "code",
   "execution_count": 42,
   "metadata": {},
   "outputs": [
    {
     "name": "stdout",
     "output_type": "stream",
     "text": [
      "+-----+--------------------+----+------+------+\n",
      "|genre|               title|year|rating|userID|\n",
      "+-----+--------------------+----+------+------+\n",
      "|Drama|Awfully Big Adven...|1995|   3.0| 490.0|\n",
      "|Drama|Awfully Big Adven...|1995|   2.0| 603.0|\n",
      "|Drama|Awfully Big Adven...|1995|   4.5| 741.0|\n",
      "|Drama|Awfully Big Adven...|1995|   3.0| 903.0|\n",
      "|Drama|Awfully Big Adven...|1995|   5.0|1259.0|\n",
      "|Drama|Awfully Big Adven...|1995|   2.0|1716.0|\n",
      "|Drama|Awfully Big Adven...|1995|   2.0|1931.0|\n",
      "|Drama|Awfully Big Adven...|1995|   3.0|2671.0|\n",
      "|Drama|Awfully Big Adven...|1995|   5.0|3335.0|\n",
      "|Drama|Awfully Big Adven...|1995|   2.0|3433.0|\n",
      "|Drama|Awfully Big Adven...|1995|   1.0|3439.0|\n",
      "|Drama|Awfully Big Adven...|1995|   2.0|3576.0|\n",
      "|Drama|Awfully Big Adven...|1995|   2.0|3673.0|\n",
      "|Drama|Awfully Big Adven...|1995|   4.0|3990.0|\n",
      "|Drama|Awfully Big Adven...|1995|   2.0|4914.0|\n",
      "|Drama|Awfully Big Adven...|1995|   3.0|4948.0|\n",
      "|Drama|Awfully Big Adven...|1995|   2.0|5186.0|\n",
      "|Drama|Awfully Big Adven...|1995|   3.0|5585.0|\n",
      "|Drama|Awfully Big Adven...|1995|   3.0|5814.0|\n",
      "|Drama|Awfully Big Adven...|1995|   4.0|5938.0|\n",
      "+-----+--------------------+----+------+------+\n",
      "only showing top 20 rows\n",
      "\n"
     ]
    }
   ],
   "source": [
    "output = schema_movies.join(schema_ratings, schema_ratings.movieID == schema_movies.movieID, how='left')\n",
    "output.registerTempTable('output')"
   ]
  },
  {
   "cell_type": "code",
   "execution_count": 62,
   "metadata": {},
   "outputs": [
    {
     "name": "stdout",
     "output_type": "stream",
     "text": [
      "+-----+----+------------------+\n",
      "|genre|year|                rt|\n",
      "+-----+----+------------------+\n",
      "|Drama|2015| 2.020661157024793|\n",
      "|Drama|2014|3.6919588875453444|\n",
      "|Drama|2013| 3.666718075262184|\n",
      "|Drama|2012| 3.519496855345912|\n",
      "|Drama|2011| 3.666268037949454|\n",
      "|Drama|2010|3.7983681154872118|\n",
      "|Drama|2009| 3.630247357076876|\n",
      "|Drama|2008|  3.72985298529853|\n",
      "|Drama|2007|3.6032848232848234|\n",
      "|Drama|2006|3.5956278544670806|\n",
      "|Drama|2005| 3.514288426848951|\n",
      "|Drama|2004|3.6915706151923344|\n",
      "|Drama|2003| 3.616070987196599|\n",
      "|Drama|2002| 3.489409551848217|\n",
      "|Drama|2001| 3.480022398034753|\n",
      "|Drama|2000|3.6653834802040732|\n",
      "|Drama|1999|3.5587787578135965|\n",
      "|Drama|1998|3.5961578736934294|\n",
      "|Drama|1997| 3.640631061683693|\n",
      "|Drama|1996|3.6584406427431624|\n",
      "+-----+----+------------------+\n",
      "only showing top 20 rows\n",
      "\n"
     ]
    }
   ],
   "source": [
    "result = sqlContext.sql(\"SELECT genre, year, AVG(rating) as rt FROM output WHERE genre = 'Drama' GROUP BY genre, year ORDER BY year DESC\")\n",
    "result.show()"
   ]
  },
  {
   "cell_type": "code",
   "execution_count": 64,
   "metadata": {},
   "outputs": [],
   "source": [
    "result.toPandas().to_csv(\"hdfs:localhost://localhost:54310/PFDA/query5.csv", header=True)"
   ]
  },
  {
   "cell_type": "code",
   "execution_count": 23,
   "metadata": {},
   "outputs": [
    {
     "data": {
      "text/plain": [
       "DataFrame[movieID: int, rating: float, userID: string]"
      ]
     },
     "execution_count": 23,
     "metadata": {},
     "output_type": "execute_result"
    }
   ],
   "source": []
  },
  {
   "cell_type": "raw",
   "metadata": {},
   "source": []
  },
  {
   "cell_type": "code",
   "execution_count": null,
   "metadata": {},
   "outputs": [],
   "source": []
  },
  {
   "cell_type": "code",
   "execution_count": null,
   "metadata": {},
   "outputs": [],
   "source": [
    "output.show()"
   ]
  }
 ],
 "metadata": {
  "kernelspec": {
   "display_name": "Python 3",
   "language": "python",
   "name": "python3"
  },
  "language_info": {
   "codemirror_mode": {
    "name": "ipython",
    "version": 3
   },
   "file_extension": ".py",
   "mimetype": "text/x-python",
   "name": "python",
   "nbconvert_exporter": "python",
   "pygments_lexer": "ipython3",
   "version": "3.7.3"
  }
 },
 "nbformat": 4,
 "nbformat_minor": 2
}
